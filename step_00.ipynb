{
  "cells": [
    {
      "cell_type": "markdown",
      "metadata": {
        "id": "view-in-github",
        "colab_type": "text"
      },
      "source": [
        "<a href=\"https://colab.research.google.com/github/Samiaa-codehub/Assignment-4/blob/main/step_00.ipynb\" target=\"_parent\"><img src=\"https://colab.research.google.com/assets/colab-badge.svg\" alt=\"Open In Colab\"/></a>"
      ]
    },
    {
      "cell_type": "markdown",
      "source": [
        "# ***01_add_two_number***\n"
      ],
      "metadata": {
        "id": "SwRht3qC8PRE"
      }
    },
    {
      "cell_type": "code",
      "source": [
        "num1:int=input(\"Enter your first number:\")\n",
        "num2:int=input(\"Enter your second number:\")\n",
        "total:int=(num1)+(num2)\n",
        "print(total)"
      ],
      "metadata": {
        "colab": {
          "base_uri": "https://localhost:8080/"
        },
        "id": "aItaNCR28a5g",
        "outputId": "7d399b29-ebf2-4fd0-88b0-44982532a7b5"
      },
      "execution_count": null,
      "outputs": [
        {
          "output_type": "stream",
          "name": "stdout",
          "text": [
            "Enter your first number:8\n",
            "Enter your second number:9\n",
            "89\n"
          ]
        }
      ]
    },
    {
      "cell_type": "markdown",
      "source": [
        "# ***02_agreement_bot***"
      ],
      "metadata": {
        "id": "FmttqDhM9RY1"
      }
    },
    {
      "cell_type": "code",
      "source": [
        "animal=input(\"Enter your favourite animal:\")\n",
        "print(\"My favorite animal is also \",animal)"
      ],
      "metadata": {
        "colab": {
          "base_uri": "https://localhost:8080/"
        },
        "id": "NKW_ZvlO9stx",
        "outputId": "71890586-bd4f-4689-d84a-76dc7bedd23d"
      },
      "execution_count": null,
      "outputs": [
        {
          "output_type": "stream",
          "name": "stdout",
          "text": [
            "Enter your favourite animal:cow\n",
            "My favorite animal is also  cow\n"
          ]
        }
      ]
    },
    {
      "cell_type": "markdown",
      "source": [
        "# **03_fahrenheit_to_celsis**"
      ],
      "metadata": {
        "id": "rqQBo_mp-dNd"
      }
    },
    {
      "cell_type": "code",
      "source": [
        "def main():\n",
        "  fahrenheit=float(input(\"Enter the temperature in fahrenheit:\"))\n",
        "  celsius=(fahrenheit-32)*5/9\n",
        "  print(\"The temperature in celsius is:\",celsius)\n",
        "if __name__==\"__main__\":\n",
        "  main()"
      ],
      "metadata": {
        "id": "5HPK-Sb1_EqE",
        "colab": {
          "base_uri": "https://localhost:8080/"
        },
        "outputId": "a23f0d14-c844-4690-a5a4-bbe196a824a2"
      },
      "execution_count": null,
      "outputs": [
        {
          "output_type": "stream",
          "name": "stdout",
          "text": [
            "Enter the temperature in fahrenheit:76\n",
            "The temperature in celsius is: 24.444444444444443\n"
          ]
        }
      ]
    },
    {
      "cell_type": "markdown",
      "source": [
        "# ***04_old_age***"
      ],
      "metadata": {
        "id": "edsPCQ3aABxd"
      }
    },
    {
      "cell_type": "code",
      "source": [
        "def main():\n",
        "  Anton:int=21\n",
        "  Beth:int=Anton + 6\n",
        "  Chen:int=Beth + 20\n",
        "  Drew:int=Chen +Anton\n",
        "  Ethan:int=Chen\n",
        "  print(\"Anton is\",Anton,\"years old\")\n",
        "  print(\"Beth is\",Beth,\"years old\")\n",
        "  print(\"Chen is\",Chen,\"years old\")\n",
        "  print(\"Drew is\",Drew,\"years old\")\n",
        "  print(\"Ethan is\",Ethan,\"years old\")\n",
        "if __name__==\"__main__\":\n",
        "  main()"
      ],
      "metadata": {
        "colab": {
          "base_uri": "https://localhost:8080/"
        },
        "id": "QSLPdBzTAA99",
        "outputId": "f6fc1b61-935b-44eb-8ff0-15387bca49ab"
      },
      "execution_count": null,
      "outputs": [
        {
          "output_type": "stream",
          "name": "stdout",
          "text": [
            "Anton is 21 years old\n",
            "Beth is 27 years old\n",
            "Chen is 47 years old\n",
            "Drew is 68 years old\n",
            "Ethan is 47 years old\n"
          ]
        }
      ]
    },
    {
      "cell_type": "markdown",
      "source": [
        "# ***05_triangle_peremeter***"
      ],
      "metadata": {
        "id": "IV3QxBVABY7T"
      }
    },
    {
      "cell_type": "code",
      "source": [
        "def main():\n",
        "  side1:float=float(input(\"Enter your first side1 ?\"))\n",
        "  side2:float=float(input(\"Enter your second side2 ?\"))\n",
        "  side3:float=float(input(\"Enter your third side3 ?\"))\n",
        "  total:float=(side1)+(side2)+(side3)\n",
        "  print(\"The perimeter of the triangle is \" , total)\n",
        "if __name__==\"__main__\":\n",
        "  main()"
      ],
      "metadata": {
        "colab": {
          "base_uri": "https://localhost:8080/"
        },
        "id": "Csq7v8sfBeYb",
        "outputId": "30274e5e-da11-4149-f799-d5f2964924b8"
      },
      "execution_count": null,
      "outputs": [
        {
          "output_type": "stream",
          "name": "stdout",
          "text": [
            "Enter your first side1?3.4\n",
            "Enter your second side2?4.5\n",
            "Enter your third side3?6.5\n",
            "The perimeter of the triangle is  14.4\n"
          ]
        }
      ]
    },
    {
      "cell_type": "markdown",
      "source": [
        "# **06_square_number**"
      ],
      "metadata": {
        "id": "5NT8aH_4Clt8"
      }
    },
    {
      "cell_type": "code",
      "source": [
        "def main():\n",
        "  num:float=float(input(\"Type a number to see square!\"))\n",
        "  print(str(num) +   \"sqaure is\" +  str(num ** 2))\n",
        "if __name__==\"__main__\":\n",
        "  main()"
      ],
      "metadata": {
        "colab": {
          "base_uri": "https://localhost:8080/"
        },
        "id": "tEq8a9cYEBGV",
        "outputId": "7bacac78-091e-42be-a0de-f7570eb1f86a"
      },
      "execution_count": null,
      "outputs": [
        {
          "output_type": "stream",
          "name": "stdout",
          "text": [
            "Type a number to see square!4\n",
            "4.0sqaure is16.0\n"
          ]
        }
      ]
    }
  ],
  "metadata": {
    "colab": {
      "provenance": [],
      "include_colab_link": true
    },
    "kernelspec": {
      "display_name": "Python 3",
      "name": "python3"
    }
  },
  "nbformat": 4,
  "nbformat_minor": 0
}