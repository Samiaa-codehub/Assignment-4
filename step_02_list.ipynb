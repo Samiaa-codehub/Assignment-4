{
  "cells": [
    {
      "cell_type": "markdown",
      "metadata": {
        "id": "view-in-github",
        "colab_type": "text"
      },
      "source": [
        "<a href=\"https://colab.research.google.com/github/Samiaa-codehub/Assignment-4/blob/main/step_02_list.ipynb\" target=\"_parent\"><img src=\"https://colab.research.google.com/assets/colab-badge.svg\" alt=\"Open In Colab\"/></a>"
      ]
    },
    {
      "cell_type": "markdown",
      "source": [
        "# ***01_add_many_number***"
      ],
      "metadata": {
        "id": "fmxA2MMABE1T"
      }
    },
    {
      "cell_type": "code",
      "source": [
        "def add_many_number(numbers:list[int]) -> int:\n",
        "  total_so_far:int = 0\n",
        "  for number in numbers:\n",
        "    total_so_far += number\n",
        "  return total_so_far\n",
        "def main():\n",
        "  numbers:list[int] = [1,2,3,4,5]\n",
        "  sum_of_numbers:int = add_many_number(numbers)\n",
        "  print(sum_of_numbers)\n",
        "if __name__ == \"__main__\":\n",
        "  main()"
      ],
      "metadata": {
        "colab": {
          "base_uri": "https://localhost:8080/"
        },
        "id": "gAAsaqeuBMyp",
        "outputId": "24595a9a-e990-4572-ec71-fd43f574a480"
      },
      "execution_count": 4,
      "outputs": [
        {
          "output_type": "stream",
          "name": "stdout",
          "text": [
            "15\n"
          ]
        }
      ]
    },
    {
      "cell_type": "markdown",
      "source": [
        "# *02_double_list*"
      ],
      "metadata": {
        "id": "9Sv0wGpuGAxm"
      }
    },
    {
      "cell_type": "code",
      "source": [
        "def double_list():\n",
        "  numbers:list[int] = [1,2,3,4,5] # create list\n",
        "  for i in range(len(numbers)): # for loop\n",
        "    elem_at_index = numbers[i]\n",
        "    numbers[i] = elem_at_index*2 #double value\n",
        "  print(numbers) #call\n",
        "if __name__ == \"__main__\":\n",
        "  double_list()\n"
      ],
      "metadata": {
        "colab": {
          "base_uri": "https://localhost:8080/"
        },
        "id": "ZDgHFg1jGHOW",
        "outputId": "12f64525-8cbe-461c-bdc6-0fcb23c429e5"
      },
      "execution_count": 6,
      "outputs": [
        {
          "output_type": "stream",
          "name": "stdout",
          "text": [
            "[2, 4, 6, 8, 10]\n"
          ]
        }
      ]
    },
    {
      "cell_type": "markdown",
      "source": [
        "# **04_flowing_with_data_structure**"
      ],
      "metadata": {
        "id": "5osVWFt_Je2s"
      }
    },
    {
      "cell_type": "code",
      "source": [
        "def add_three_copies(my_list,data):\n",
        "  for i in range(3):\n",
        "     my_list.append(data)\n",
        "def  main():\n",
        "  user_message=input(\"Enter a message to  copy:\")\n",
        "  my_list =[] # show empty list\n",
        "  print(\"List before:\",my_list)\n",
        "  add_three_copies(my_list,user_message) # show list\n",
        "  print(\"List After:\",my_list)\n",
        "if __name__ == \"__main__\":\n",
        "  main()"
      ],
      "metadata": {
        "colab": {
          "base_uri": "https://localhost:8080/"
        },
        "id": "Cyuel1IKJ3Qv",
        "outputId": "20d1f2b7-9e4c-4901-cf71-a85ca421f980"
      },
      "execution_count": 8,
      "outputs": [
        {
          "output_type": "stream",
          "name": "stdout",
          "text": [
            "Enter a message to  copy:hello world\n",
            "List before: []\n",
            "List After: ['hello world', 'hello world', 'hello world']\n"
          ]
        }
      ]
    },
    {
      "cell_type": "markdown",
      "source": [
        "# *05_get_first_element*"
      ],
      "metadata": {
        "id": "FqUKoBX3NIEH"
      }
    },
    {
      "cell_type": "code",
      "source": [
        "def get_first_element(my_list):\n",
        "    print(my_list[0])\n",
        "def get_list():\n",
        "  my_list=[]\n",
        "  elem:str = input(\"Enter an element of the list or press enter to stop:\")\n",
        "  while elem != \"\":\n",
        "    my_list.append(elem)\n",
        "    elem = input(\"Enter an element of the list or press enter to stop:\")\n",
        "  return my_list\n",
        "def main():\n",
        "  my_list = get_list()\n",
        "  get_first_element(my_list)\n",
        "if __name__ == \"__main__\":\n",
        "  main()\n"
      ],
      "metadata": {
        "colab": {
          "base_uri": "https://localhost:8080/"
        },
        "id": "hTXnqgY1NNTE",
        "outputId": "00bc7f15-03b3-41b2-a902-39f00c453ec8"
      },
      "execution_count": 12,
      "outputs": [
        {
          "output_type": "stream",
          "name": "stdout",
          "text": [
            "Enter an element of the list or press enter to stop:mango\n",
            "Enter an element of the list or press enter to stop:apple\n",
            "Enter an element of the list or press enter to stop:cherry\n",
            "Enter an element of the list or press enter to stop:\n",
            "mango\n"
          ]
        }
      ]
    },
    {
      "cell_type": "markdown",
      "source": [
        "# *06_get_last_element*"
      ],
      "metadata": {
        "id": "SXYOXq_VQjOn"
      }
    },
    {
      "cell_type": "code",
      "source": [
        "def get_last_element(my_list):\n",
        "    print(my_list[len(my_list) -1])\n",
        "def get_list():\n",
        "  my_list=[]\n",
        "  elem:str = input(\"Enter an element of the list or press enter to stop:\")\n",
        "  while elem != \"\":\n",
        "    my_list.append(elem)\n",
        "    elem = input(\"Enter an element of the list or press enter to stop:\")\n",
        "  return my_list\n",
        "def main():\n",
        "  my_list = get_list()\n",
        "  get_last_element(my_list)\n",
        "if __name__ == \"__main__\":\n",
        "  main()\n",
        "#"
      ],
      "metadata": {
        "colab": {
          "base_uri": "https://localhost:8080/"
        },
        "id": "mhz3Ls0sQpey",
        "outputId": "85cde78e-5c8d-44a4-85a4-ccf4914493e7"
      },
      "execution_count": 13,
      "outputs": [
        {
          "output_type": "stream",
          "name": "stdout",
          "text": [
            "Enter an element of the list or press enter to stop:mango\n",
            "Enter an element of the list or press enter to stop:apple\n",
            "Enter an element of the list or press enter to stop:cherry\n",
            "Enter an element of the list or press enter to stop:\n",
            "cherry\n"
          ]
        }
      ]
    },
    {
      "cell_type": "markdown",
      "source": [
        "# *07_list*"
      ],
      "metadata": {
        "id": "zxQBdU1mRh9s"
      }
    },
    {
      "cell_type": "code",
      "source": [
        "def main():\n",
        "  first = []\n",
        "  val = input(\"Enter a value :\")\n",
        "  while val != \"\":\n",
        "    first.append(val)\n",
        "    val = input(\"Enter a value :\")\n",
        "  print(\"Here's the list :\",first)\n",
        "if __name__ == \"__main__\":\n",
        "  main()"
      ],
      "metadata": {
        "colab": {
          "base_uri": "https://localhost:8080/"
        },
        "id": "PiJSo74pSKte",
        "outputId": "595b64a1-21de-4030-b307-44fc30912d62"
      },
      "execution_count": 18,
      "outputs": [
        {
          "output_type": "stream",
          "name": "stdout",
          "text": [
            "Enter a value :hello\n",
            "Enter a value :hello\n",
            "Enter a value :hello\n",
            "Enter a value :\n",
            "Here's the list : ['hello', 'hello', 'hello']\n"
          ]
        }
      ]
    },
    {
      "cell_type": "markdown",
      "source": [
        "# *08_shorten*"
      ],
      "metadata": {
        "id": "5afjZJvIUs6P"
      }
    },
    {
      "cell_type": "code",
      "source": [
        "Max_LENGTH:int = 3\n",
        "def shorten(my_list):\n",
        "  while len(my_list) > Max_LENGTH:\n",
        "    last_elem=my_list.pop()\n",
        "    print(last_elem)\n",
        "def get_list():\n",
        "  my_list=[]\n",
        "  elem:str = input(\"Enter an element of the list or press enter to stop:\")\n",
        "  while elem != \"\":\n",
        "    my_list.append(elem)\n",
        "    elem = input(\"Enter an element of the list or press enter to stop:\")\n",
        "  return my_list\n",
        "def main():\n",
        "  my_list = get_list()\n",
        "  shorten(my_list)\n",
        "if __name__ == \"__main__\":\n",
        "  main()\n"
      ],
      "metadata": {
        "colab": {
          "base_uri": "https://localhost:8080/"
        },
        "id": "Ox23Gul1UyEb",
        "outputId": "64a83b81-90f2-4b38-e5b2-d9964fc42acd"
      },
      "execution_count": 19,
      "outputs": [
        {
          "output_type": "stream",
          "name": "stdout",
          "text": [
            "Enter an element of the list or press enter to stop:a\n",
            "Enter an element of the list or press enter to stop:b\n",
            "Enter an element of the list or press enter to stop:c\n",
            "Enter an element of the list or press enter to stop:d\n",
            "Enter an element of the list or press enter to stop:e\n",
            "Enter an element of the list or press enter to stop:f\n",
            "Enter an element of the list or press enter to stop:\n",
            "f\n",
            "e\n",
            "d\n"
          ]
        }
      ]
    }
  ],
  "metadata": {
    "colab": {
      "provenance": [],
      "include_colab_link": true
    },
    "kernelspec": {
      "display_name": "Python 3",
      "name": "python3"
    }
  },
  "nbformat": 4,
  "nbformat_minor": 0
}