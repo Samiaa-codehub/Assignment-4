{
  "cells": [
    {
      "cell_type": "markdown",
      "metadata": {
        "id": "view-in-github",
        "colab_type": "text"
      },
      "source": [
        "<a href=\"https://colab.research.google.com/github/Samiaa-codehub/Assignment-4/blob/main/intermidiet_2.ipynb\" target=\"_parent\"><img src=\"https://colab.research.google.com/assets/colab-badge.svg\" alt=\"Open In Colab\"/></a>"
      ]
    },
    {
      "cell_type": "markdown",
      "source": [
        "# Controlflow-statement-for-***console***"
      ],
      "metadata": {
        "id": "hUs-AutlvG8i"
      }
    },
    {
      "cell_type": "code",
      "source": [
        "import random\n",
        "\n",
        "NUM_ROUNDS = 5\n",
        "\n",
        "def main():\n",
        "    print(\"Welcome to the High-Low Game!\")\n",
        "    print(\"--------------------------------\")\n",
        "\n",
        "    score = 0  # Keep track of the player's score\n",
        "\n",
        "    for round_num in range(1, NUM_ROUNDS + 1):\n",
        "        print(f\"Round {round_num}\")\n",
        "\n",
        "        your_number = random.randint(1, 100)\n",
        "        computer_number = random.randint(1, 100)\n",
        "\n",
        "        print(f\"Your number is {your_number}\")\n",
        "\n",
        "        # Get valid input\n",
        "        guess = input(\"Do you think your number is higher or lower than the computer's?: \").strip().lower()\n",
        "        while guess != \"higher\" and guess != \"lower\":\n",
        "            guess = input(\"Please enter either higher or lower: \").strip().lower()\n",
        "\n",
        "        correct = False\n",
        "        if guess == \"higher\" and your_number > computer_number:\n",
        "            correct = True\n",
        "        elif guess == \"lower\" and your_number < computer_number:\n",
        "            correct = True\n",
        "\n",
        "        if correct:\n",
        "            print(f\"You were right! The computer's number was {computer_number}\")\n",
        "            score += 1\n",
        "        else:\n",
        "            print(f\"Aww, that's incorrect. The computer's number was {computer_number}\")\n",
        "\n",
        "        print(f\"Your score is now {score}\\n\")\n",
        "\n",
        "    # Final message\n",
        "    print(\"Thanks for playing!\")\n",
        "\n",
        "    if score == NUM_ROUNDS:\n",
        "        print(\"Wow! You played perfectly!\")\n",
        "    elif score >= NUM_ROUNDS // 2:\n",
        "        print(\"Good job, you played really well!\")\n",
        "    else:\n",
        "        print(\"Better luck next time!\")\n",
        "\n",
        "if __name__ == '__main__':\n",
        "    main()\n"
      ],
      "metadata": {
        "colab": {
          "base_uri": "https://localhost:8080/"
        },
        "id": "3P0pew12vj-p",
        "outputId": "e23c7c20-ceec-4c27-848c-e73a73177ae8"
      },
      "execution_count": 1,
      "outputs": [
        {
          "output_type": "stream",
          "name": "stdout",
          "text": [
            "Welcome to the High-Low Game!\n",
            "--------------------------------\n",
            "Round 1\n",
            "Your number is 67\n",
            "Do you think your number is higher or lower than the computer's?: higher\n",
            "Aww, that's incorrect. The computer's number was 68\n",
            "Your score is now 0\n",
            "\n",
            "Round 2\n",
            "Your number is 27\n",
            "Do you think your number is higher or lower than the computer's?: lower\n",
            "You were right! The computer's number was 47\n",
            "Your score is now 1\n",
            "\n",
            "Round 3\n",
            "Your number is 11\n",
            "Do you think your number is higher or lower than the computer's?: highger\n",
            "Please enter either higher or lower: lower\n",
            "You were right! The computer's number was 52\n",
            "Your score is now 2\n",
            "\n",
            "Round 4\n",
            "Your number is 49\n",
            "Do you think your number is higher or lower than the computer's?: higher\n",
            "You were right! The computer's number was 46\n",
            "Your score is now 3\n",
            "\n",
            "Round 5\n",
            "Your number is 40\n",
            "Do you think your number is higher or lower than the computer's?: lower\n",
            "You were right! The computer's number was 53\n",
            "Your score is now 4\n",
            "\n",
            "Thanks for playing!\n",
            "Good job, you played really well!\n"
          ]
        }
      ]
    },
    {
      "cell_type": "markdown",
      "source": [
        "# planetary_weight-***calculator***"
      ],
      "metadata": {
        "id": "4A-EICRLwOgD"
      }
    },
    {
      "cell_type": "code",
      "source": [
        "def main():\n",
        "    # Gravitational factors relative to Earth's gravity\n",
        "    gravity_factors = {\n",
        "        \"Mercury\": 0.376,\n",
        "        \"Venus\": 0.889,\n",
        "        \"Mars\": 0.378,\n",
        "        \"Jupiter\": 2.36,\n",
        "        \"Saturn\": 1.081,\n",
        "        \"Uranus\": 0.815,\n",
        "        \"Neptune\": 1.14\n",
        "    }\n",
        "\n",
        "    earth_weight = float(input(\"Enter a weight on Earth: \"))\n",
        "    planet = input(\"Enter a planet: \")\n",
        "\n",
        "    if planet in gravity_factors:\n",
        "        factor = gravity_factors[planet]\n",
        "        planet_weight = round(earth_weight * factor, 2)\n",
        "        print(f\"The equivalent weight on {planet}: {planet_weight}\")\n",
        "    else:\n",
        "        print(\"Invalid planet. Please enter a valid planet name with the first letter capitalized.\")\n",
        "\n",
        "if __name__ == '__main__':\n",
        "    main()\n"
      ],
      "metadata": {
        "colab": {
          "base_uri": "https://localhost:8080/"
        },
        "id": "JDXPoPE0wh_l",
        "outputId": "338ac635-f082-4db7-bbed-617123d386aa"
      },
      "execution_count": 5,
      "outputs": [
        {
          "output_type": "stream",
          "name": "stdout",
          "text": [
            "Enter a weight on Earth: 2.36\n",
            "Enter a planet: Jupiter\n",
            "The equivalent weight on Jupiter: 5.57\n"
          ]
        }
      ]
    },
    {
      "cell_type": "markdown",
      "source": [
        "# list-**dic**"
      ],
      "metadata": {
        "id": "jcQS_4IXxDYF"
      }
    },
    {
      "cell_type": "markdown",
      "source": [
        "# problem-***1***"
      ],
      "metadata": {
        "id": "NXbfvel_xGr8"
      }
    },
    {
      "cell_type": "code",
      "source": [
        "def main():\n",
        "    fruits_list:list=['apple', 'banana', 'orange','grape','pineapple']\n",
        "    print(fruits_list)\n",
        "    #Add a new fruits to the list\n",
        "    fruits_list.append('mango')\n",
        "    print(fruits_list)\n",
        "if __name__ == \"__main__\":\n",
        "    main()"
      ],
      "metadata": {
        "colab": {
          "base_uri": "https://localhost:8080/"
        },
        "id": "CiPAjqXqxC1Y",
        "outputId": "f21429c9-948c-4384-cd40-932879d67e9a"
      },
      "execution_count": 6,
      "outputs": [
        {
          "output_type": "stream",
          "name": "stdout",
          "text": [
            "['apple', 'banana', 'orange', 'grape', 'pineapple']\n",
            "['apple', 'banana', 'orange', 'grape', 'pineapple', 'mango']\n"
          ]
        }
      ]
    },
    {
      "cell_type": "markdown",
      "source": [
        "# problem-***2***"
      ],
      "metadata": {
        "id": "cFcg1nnRxXL2"
      }
    },
    {
      "cell_type": "code",
      "source": [
        "def access_element(my_list, index):\n",
        "    if 0 <= index < len(my_list):\n",
        "        return f\"Element at index {index} is: {my_list[index]}\"\n",
        "    else:\n",
        "        return \"Index out of range.\"\n",
        "\n",
        "\n",
        "def modify_element(my_list, index, new_value):\n",
        "    if 0 <= index < len(my_list):\n",
        "        my_list[index] = new_value\n",
        "        return f\"Element at index {index} modified. New list: {my_list}\"\n",
        "    else:\n",
        "        return \"Index out of range.\"\n",
        "\n",
        "\n",
        "def slice_list(my_list, start, end):\n",
        "    if 0 <= start <= end <= len(my_list):\n",
        "        return f\"Sliced list: {my_list[start:end]}\"\n",
        "    else:\n",
        "        return \"Invalid slice indices.\"\n",
        "\n",
        "\n",
        "def main():\n",
        "    my_list = ['cat', 'dog', 'bird', 'lion', 'tiger']\n",
        "\n",
        "    while True:\n",
        "        print(\"\\n--- Index Game Menu ---\")\n",
        "        print(\"1. Access an element\")\n",
        "        print(\"2. Modify an element\")\n",
        "        print(\"3. Slice the list\")\n",
        "        print(\"4. Quit\")\n",
        "\n",
        "        choice = input(\"Enter your choice (1-4): \")\n",
        "\n",
        "        if choice == '1':\n",
        "            index = int(input(\"Enter index to access: \"))\n",
        "            print(access_element(my_list, index))\n",
        "\n",
        "        elif choice == '2':\n",
        "            index = int(input(\"Enter index to modify: \"))\n",
        "            new_value = input(\"Enter new value: \")\n",
        "            print(modify_element(my_list, index, new_value))\n",
        "\n",
        "        elif choice == '3':\n",
        "            start = int(input(\"Enter start index: \"))\n",
        "            end = int(input(\"Enter end index: \"))\n",
        "            print(slice_list(my_list, start, end))\n",
        "\n",
        "        elif choice == '4':\n",
        "            print(\"Thanks for playing! Goodbye.\")\n",
        "            break\n",
        "\n",
        "        else:\n",
        "            print(\"Invalid choice. Please select 1-4.\")\n",
        "\n",
        "if __name__ == \"__main__\":\n",
        "    main()\n"
      ],
      "metadata": {
        "colab": {
          "base_uri": "https://localhost:8080/"
        },
        "id": "mKzxXNuQxZ6R",
        "outputId": "e6b187ae-bbbf-4540-dc63-dd07a05643e9"
      },
      "execution_count": 7,
      "outputs": [
        {
          "output_type": "stream",
          "name": "stdout",
          "text": [
            "\n",
            "--- Index Game Menu ---\n",
            "1. Access an element\n",
            "2. Modify an element\n",
            "3. Slice the list\n",
            "4. Quit\n",
            "Enter your choice (1-4): 1\n",
            "Enter index to access: 0\n",
            "Element at index 0 is: cat\n",
            "\n",
            "--- Index Game Menu ---\n",
            "1. Access an element\n",
            "2. Modify an element\n",
            "3. Slice the list\n",
            "4. Quit\n",
            "Enter your choice (1-4): 2\n",
            "Enter index to modify: 3\n",
            "Enter new value: dog\n",
            "Element at index 3 modified. New list: ['cat', 'dog', 'bird', 'dog', 'tiger']\n",
            "\n",
            "--- Index Game Menu ---\n",
            "1. Access an element\n",
            "2. Modify an element\n",
            "3. Slice the list\n",
            "4. Quit\n",
            "Enter your choice (1-4): 3\n",
            "Enter start index: 0\n",
            "Enter end index: 2\n",
            "Sliced list: ['cat', 'dog']\n",
            "\n",
            "--- Index Game Menu ---\n",
            "1. Access an element\n",
            "2. Modify an element\n",
            "3. Slice the list\n",
            "4. Quit\n",
            "Enter your choice (1-4): 4\n",
            "Thanks for playing! Goodbye.\n"
          ]
        }
      ]
    }
  ],
  "metadata": {
    "colab": {
      "provenance": [],
      "include_colab_link": true
    },
    "kernelspec": {
      "display_name": "Python 3",
      "name": "python3"
    }
  },
  "nbformat": 4,
  "nbformat_minor": 0
}