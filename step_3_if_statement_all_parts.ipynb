{
  "cells": [
    {
      "cell_type": "markdown",
      "metadata": {
        "id": "view-in-github",
        "colab_type": "text"
      },
      "source": [
        "<a href=\"https://colab.research.google.com/github/Samiaa-codehub/Assignment-4/blob/main/step_3_if_statement_all_parts.ipynb\" target=\"_parent\"><img src=\"https://colab.research.google.com/assets/colab-badge.svg\" alt=\"Open In Colab\"/></a>"
      ]
    },
    {
      "cell_type": "markdown",
      "source": [
        "# ***01_print_event***"
      ],
      "metadata": {
        "id": "kF79848mt5VH"
      }
    },
    {
      "cell_type": "code",
      "source": [
        "def main():\n",
        "  for i in range(20):\n",
        "    print(i * 2)\n",
        "if __name__ == '__main__':\n",
        "  main()"
      ],
      "metadata": {
        "colab": {
          "base_uri": "https://localhost:8080/"
        },
        "id": "eVyqKX9qt40J",
        "outputId": "fd7a1d11-b75c-4283-fdc2-48f5109b2d50"
      },
      "execution_count": 1,
      "outputs": [
        {
          "output_type": "stream",
          "name": "stdout",
          "text": [
            "0\n",
            "2\n",
            "4\n",
            "6\n",
            "8\n",
            "10\n",
            "12\n",
            "14\n",
            "16\n",
            "18\n",
            "20\n",
            "22\n",
            "24\n",
            "26\n",
            "28\n",
            "30\n",
            "32\n",
            "34\n",
            "36\n",
            "38\n"
          ]
        }
      ]
    },
    {
      "cell_type": "markdown",
      "source": [
        "# 02_Internaltional voting ***age***"
      ],
      "metadata": {
        "id": "ipXrQ1-iuibA"
      }
    },
    {
      "cell_type": "code",
      "source": [
        "Peturksbouipo:int= 16\n",
        "Stanlau:int=25\n",
        "Mayengua:int=48\n",
        "\n",
        "def main():\n",
        "  your_age:str=input(\"How old are you\")\n",
        "\n",
        "  if int(your_age) >= Peturksbouipo:\n",
        "   print(\"You can vote in Peturksbouipo where the voting age is \" + str(Peturksbouipo) + \".\")\n",
        "\n",
        "  elif int(your_age) >= Stanlau:\n",
        "    print(\"You can vote in Stanlau where the voting age is \" + str(Stanlau) + \".\")\n",
        "  elif int(your_age) >= Mayengua:\n",
        "    print(\"You can vote in Mayengua where the voting age is \" + str(Mayengua) + \".\")\n",
        "  else:\n",
        "    print(\"You can not vote.\")\n",
        "\n",
        "if __name__ == '__main__':\n",
        "  main()\n",
        "\n",
        "\n"
      ],
      "metadata": {
        "colab": {
          "base_uri": "https://localhost:8080/"
        },
        "id": "ulHCpYOEutrd",
        "outputId": "8c5bf16b-b0ae-4f0d-d0ea-813509eeed36"
      },
      "execution_count": 3,
      "outputs": [
        {
          "output_type": "stream",
          "name": "stdout",
          "text": [
            "How old are you16\n",
            "You can vote in Peturksbouipo where the voting age is 16.\n"
          ]
        }
      ]
    },
    {
      "cell_type": "markdown",
      "source": [
        "# 03***leap year***"
      ],
      "metadata": {
        "id": "O2QClvgELMNH"
      }
    },
    {
      "cell_type": "code",
      "source": [
        "def main():\n",
        "    # Get the year to check from the user\n",
        "    year = int(input('Please input a year: '))\n",
        "\n",
        "    # Apply leap year rules\n",
        "    if year % 4 == 0:\n",
        "        if year % 100 == 0:\n",
        "            if year % 400 == 0:\n",
        "                print(\"That's a leap year!\")\n",
        "            else:\n",
        "                print(\"That's not a leap year.\")\n",
        "        else:\n",
        "            print(\"That's a leap year!\")\n",
        "    else:\n",
        "        print(\"That's not a leap year.\")\n",
        "\n",
        "if __name__ == '__main__':\n",
        "    main()\n"
      ],
      "metadata": {
        "colab": {
          "base_uri": "https://localhost:8080/"
        },
        "id": "NZAQManJMDOJ",
        "outputId": "8eeb6e18-11fc-4f18-9162-399c255520fd"
      },
      "execution_count": 5,
      "outputs": [
        {
          "output_type": "stream",
          "name": "stdout",
          "text": [
            "Please input a year: 2024\n",
            "That's a leap year!\n"
          ]
        }
      ]
    },
    {
      "cell_type": "markdown",
      "source": [
        "# 04 ***tall_enough_to_ride***"
      ],
      "metadata": {
        "id": "Gt7-G37cM_y1"
      }
    },
    {
      "cell_type": "code",
      "source": [
        "min_height:int=50\n",
        "\n",
        "def main():\n",
        "  height=int(input(\"How old are you ? \"))\n",
        "\n",
        "  if height >= min_height:\n",
        "\n",
        "    print(\"You're tall enough to ride!\")\n",
        "  else:\n",
        "\n",
        "    print(\"you 're not tall enough to ride, but maybe next year!\")\n",
        "\n",
        "if __name__  == '__main__':\n",
        "      main()"
      ],
      "metadata": {
        "colab": {
          "base_uri": "https://localhost:8080/"
        },
        "id": "5E4J_gvhNYXv",
        "outputId": "b20e4a7d-eb8f-4843-d764-28df23077429"
      },
      "execution_count": 26,
      "outputs": [
        {
          "output_type": "stream",
          "name": "stdout",
          "text": [
            "How old are you ? 52\n",
            "You're tall enough to ride!\n"
          ]
        }
      ]
    },
    {
      "cell_type": "markdown",
      "source": [
        "# ***05_Random_number***"
      ],
      "metadata": {
        "id": "Q0Y_NMXPQ4oD"
      }
    },
    {
      "cell_type": "code",
      "source": [
        "import random\n",
        "\n",
        "N_NUMBERS: int = 10\n",
        "MIN_VALUE: int = 1\n",
        "MAX_VALUE: int = 100\n",
        "\n",
        "def main():\n",
        "    for _ in range(N_NUMBERS):\n",
        "        value = random.randint(MIN_VALUE, MAX_VALUE)\n",
        "        print(value)\n",
        "\n",
        "if __name__ == '__main__':\n",
        "    main()\n"
      ],
      "metadata": {
        "colab": {
          "base_uri": "https://localhost:8080/"
        },
        "id": "7obfDZgJQ_l4",
        "outputId": "6cd44f32-087b-4602-9e16-343b334840e6"
      },
      "execution_count": 27,
      "outputs": [
        {
          "output_type": "stream",
          "name": "stdout",
          "text": [
            "91\n",
            "5\n",
            "89\n",
            "8\n",
            "79\n",
            "3\n",
            "40\n",
            "57\n",
            "39\n",
            "67\n"
          ]
        }
      ]
    }
  ],
  "metadata": {
    "colab": {
      "provenance": [],
      "include_colab_link": true
    },
    "kernelspec": {
      "display_name": "Python 3",
      "name": "python3"
    }
  },
  "nbformat": 4,
  "nbformat_minor": 0
}